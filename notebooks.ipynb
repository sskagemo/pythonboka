{
 "cells": [
  {
   "cell_type": "markdown",
   "metadata": {},
   "source": [
    "# Python-kode og tekst side ved side med Jupyter Notebook\n",
    "\n",
    "Denne siden er laget ved hjelp av Jupyter Notebook. Det er et verktøy som gjør det lett å kombinere kode og resultatene av koden, med formatert tekst.\n",
    "\n",
    "## Noen enkle eksempler på Python-kode\n",
    "\n",
    "La oss starte med det obligatoriske: \"Hei, verden!\":"
   ]
  },
  {
   "cell_type": "code",
   "execution_count": 1,
   "metadata": {},
   "outputs": [
    {
     "output_type": "stream",
     "name": "stdout",
     "text": [
      "Hei, verden!\n"
     ]
    }
   ],
   "source": [
    "print('Hei, verden!')"
   ]
  },
  {
   "source": [
    "Så kan vi vise litt enkel regning:"
   ],
   "cell_type": "markdown",
   "metadata": {}
  },
  {
   "cell_type": "code",
   "execution_count": 2,
   "metadata": {},
   "outputs": [
    {
     "output_type": "stream",
     "name": "stdout",
     "text": [
      "Sum1 er 3, sum2 er 100 og differanse er 81\n"
     ]
    }
   ],
   "source": [
    "sum1 = 1 + 2\n",
    "sum2 = 10 * 10\n",
    "differanse = 90-9\n",
    "\n",
    "print(f'Sum1 er {sum1}, sum2 er {sum2} og differanse er {differanse}')"
   ]
  },
  {
   "source": [
    "Til slutt noen kommandoer som viser triks med lister og tekst:"
   ],
   "cell_type": "markdown",
   "metadata": {}
  },
  {
   "cell_type": "code",
   "execution_count": 10,
   "metadata": {},
   "outputs": [
    {
     "output_type": "execute_result",
     "data": {
      "text/plain": [
       "'trepus re nohtyP'"
      ]
     },
     "metadata": {},
     "execution_count": 10
    }
   ],
   "source": [
    "# Start bakfra (-1), og gå baklengs til starte\n",
    "tekst = 'Python er supert'\n",
    "tekst[-1::-1]"
   ]
  },
  {
   "cell_type": "code",
   "execution_count": 13,
   "metadata": {},
   "outputs": [
    {
     "output_type": "execute_result",
     "data": {
      "text/plain": [
       "'PYTHON ER SUPERT'"
      ]
     },
     "metadata": {},
     "execution_count": 13
    }
   ],
   "source": [
    "# Store bokstaver\n",
    "tekst.upper()"
   ]
  },
  {
   "cell_type": "code",
   "execution_count": 14,
   "metadata": {},
   "outputs": [
    {
     "output_type": "stream",
     "name": "stdout",
     "text": [
      "16\n"
     ]
    }
   ],
   "source": [
    "# Antall bokstaver med len()\n",
    "print(len(tekst))"
   ]
  },
  {
   "cell_type": "code",
   "execution_count": 30,
   "metadata": {},
   "outputs": [
    {
     "output_type": "stream",
     "name": "stdout",
     "text": [
      "{'o', 'u', 'y', 'e'}\n"
     ]
    }
   ],
   "source": [
    "# hvilke vokaler er brukt i teksten?\n",
    "# Forklaring: Genererer en liste over alle bokstavene som finnes i aeiouyæøå og gjør om listen til et \"set\", som til forskjell fra lister kun består av unike verdier\n",
    "print(set([bokstav for bokstav in tekst if (bokstav in 'aeiouyæøå')]))"
   ]
  },
  {
   "cell_type": "markdown",
   "metadata": {},
   "source": [
    "There is a lot more that you can do with outputs (such as including interactive outputs)\n",
    "with your book. For more information about this, see [the Jupyter Book documentation](https://jupyterbook.org)"
   ]
  }
 ],
 "metadata": {
  "kernelspec": {
   "display_name": "Python 3",
   "language": "python",
   "name": "python3"
  },
  "language_info": {
   "codemirror_mode": {
    "name": "ipython",
    "version": 3
   },
   "file_extension": ".py",
   "mimetype": "text/x-python",
   "name": "python",
   "nbconvert_exporter": "python",
   "pygments_lexer": "ipython3",
   "version": "3.9.1"
  },
  "widgets": {
   "application/vnd.jupyter.widget-state+json": {
    "state": {},
    "version_major": 2,
    "version_minor": 0
   }
  }
 },
 "nbformat": 4,
 "nbformat_minor": 4
}